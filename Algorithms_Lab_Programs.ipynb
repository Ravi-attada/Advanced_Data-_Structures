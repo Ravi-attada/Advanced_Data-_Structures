{
  "nbformat": 4,
  "nbformat_minor": 0,
  "metadata": {
    "colab": {
      "provenance": [],
      "authorship_tag": "ABX9TyOb2RGsyUaO2Sy3hfsDr6DE"
    },
    "kernelspec": {
      "name": "python3",
      "display_name": "Python 3"
    },
    "language_info": {
      "name": "python"
    }
  },
  "cells": [
    {
      "cell_type": "code",
      "source": [
        "# Bubble sort in Python\n",
        "def bubbleSort(array):\n",
        "  for i in range(len(array)):\n",
        "    for j in range(0, len(array) - i - 1):\n",
        "      if array[j] > array[j + 1]:\n",
        "        temp = array[j]\n",
        "        array[j] = array[j+1]\n",
        "        array[j+1] = temp\n",
        "\n",
        "data = [45,32,16,84,76,1,19]\n",
        "print(f\"Original data: {data}\")\n",
        "bubbleSort(data)\n",
        "print('Sorted Array:')\n",
        "print(data)"
      ],
      "metadata": {
        "colab": {
          "base_uri": "https://localhost:8080/"
        },
        "id": "D3au_2ZW4-TZ",
        "outputId": "f86c9bdb-fcea-4f83-d513-2fbd47c8ed58"
      },
      "execution_count": 1,
      "outputs": [
        {
          "output_type": "stream",
          "name": "stdout",
          "text": [
            "Original data: [45, 32, 16, 84, 76, 1, 19]\n",
            "Sorted Array:\n",
            "[1, 16, 19, 32, 45, 76, 84]\n"
          ]
        }
      ]
    },
    {
      "cell_type": "code",
      "source": [
        "# Selection sort in Python\n",
        "def selectionSort(array, n):\n",
        "    for step in range(n):\n",
        "        min_idx = step\n",
        "        for i in range(step + 1, size):\n",
        "            if array[i] < array[min_idx]:\n",
        "                min_idx = i\n",
        "        (array[step], array[min_idx]) = (array[min_idx], array[step])\n",
        "\n",
        "\n",
        "data = [45,32,16,84,76,1,19]\n",
        "print(f\"Original data: {data}\")\n",
        "size = len(data)\n",
        "selectionSort(data, size)\n",
        "print('Sorted Array :')\n",
        "print(data)\n",
        ""
      ],
      "metadata": {
        "colab": {
          "base_uri": "https://localhost:8080/"
        },
        "id": "6LFd0p0x5Is8",
        "outputId": "8848e305-f11f-41a4-9fd8-cecc521663b3"
      },
      "execution_count": 2,
      "outputs": [
        {
          "output_type": "stream",
          "name": "stdout",
          "text": [
            "Original data: [45, 32, 16, 84, 76, 1, 19]\n",
            "Sorted Array :\n",
            "[1, 16, 19, 32, 45, 76, 84]\n"
          ]
        }
      ]
    },
    {
      "cell_type": "code",
      "source": [
        "# Insertion sort in Python\n",
        "def insertionSort(array):\n",
        "    for step in range(1, len(array)):\n",
        "        key = array[step]\n",
        "        j = step - 1\n",
        "        while j >= 0 and key < array[j]:\n",
        "            array[j + 1] = array[j]\n",
        "            j = j - 1\n",
        "        array[j + 1] = key\n",
        "\n",
        "\n",
        "data = [45,32,16,84,76,1,19]\n",
        "print(f\"Original data: {data}\")\n",
        "insertionSort(data)\n",
        "print('Sorted Array:')\n",
        "print(data)"
      ],
      "metadata": {
        "colab": {
          "base_uri": "https://localhost:8080/"
        },
        "id": "N9S0z-dA5NeP",
        "outputId": "3cb36ea0-330f-4fc9-f713-420d0103b065"
      },
      "execution_count": 3,
      "outputs": [
        {
          "output_type": "stream",
          "name": "stdout",
          "text": [
            "Original data: [45, 32, 16, 84, 76, 1, 19]\n",
            "Sorted Array:\n",
            "[1, 16, 19, 32, 45, 76, 84]\n"
          ]
        }
      ]
    },
    {
      "cell_type": "code",
      "execution_count": 4,
      "metadata": {
        "colab": {
          "base_uri": "https://localhost:8080/"
        },
        "id": "6_nvgjOkXlCb",
        "outputId": "b624ed58-cb6f-4fcb-bd5b-111f5b17e927"
      },
      "outputs": [
        {
          "output_type": "stream",
          "name": "stdout",
          "text": [
            "Original: [38, 27, 43, 3, 9, 82, 10]\n",
            "Sorted: [3, 9, 10, 27, 38, 43, 82]\n"
          ]
        }
      ],
      "source": [
        "# merge sort in python\n",
        "def merge_sort(arr):\n",
        "    # Base case: a list of 0 or 1 elements is already sorted\n",
        "    if len(arr) <= 1:\n",
        "        return arr\n",
        "    # Split the list into two halves\n",
        "    mid = len(arr) // 2\n",
        "    left = merge_sort(arr[:mid])\n",
        "    right = merge_sort(arr[mid:])\n",
        "    # Merge the sorted halves\n",
        "    return merge(left, right)\n",
        "def merge(left, right):\n",
        "    merged = []\n",
        "    i = j = 0\n",
        "    # Compare elements from both halves and collect them in order\n",
        "    while i < len(left) and j < len(right):\n",
        "        if left[i] < right[j]:\n",
        "            merged.append(left[i])\n",
        "            i += 1\n",
        "        else:\n",
        "            merged.append(right[j])\n",
        "            j += 1\n",
        "    # Add any remaining elements\n",
        "    merged.extend(left[i:])\n",
        "    merged.extend(right[j:])\n",
        "    return merged\n",
        "\n",
        "# Example usage:\n",
        "nums = [38, 27, 43, 3, 9, 82, 10]\n",
        "print(\"Original:\", nums)\n",
        "print(\"Sorted:\", merge_sort(nums))\n"
      ]
    },
    {
      "cell_type": "code",
      "source": [
        "def quick_sort(arr):\n",
        "    # Base case: 0 or 1 element is already sorted\n",
        "    if len(arr) <= 1:\n",
        "        return arr\n",
        "\n",
        "    # Choose a pivot (here we pick the last element)\n",
        "    pivot = arr[-1]\n",
        "    left = [x for x in arr[:-1] if x <= pivot]   # elements <= pivot\n",
        "    right = [x for x in arr[:-1] if x > pivot]   # elements > pivot\n",
        "\n",
        "    # Recursively sort left and right, then combine\n",
        "    return quick_sort(left) + [pivot] + quick_sort(right)\n",
        "\n",
        "\n",
        "# Example usage:\n",
        "nums = [38, 27, 43, 3, 9, 82, 10]\n",
        "print(\"Original:\", nums)\n",
        "print(\"Sorted:\", quick_sort(nums))\n"
      ],
      "metadata": {
        "colab": {
          "base_uri": "https://localhost:8080/"
        },
        "id": "uJD6nCXwYE4l",
        "outputId": "9196651e-ad9d-4ea8-cf4b-4d2978466c7d"
      },
      "execution_count": 5,
      "outputs": [
        {
          "output_type": "stream",
          "name": "stdout",
          "text": [
            "Original: [38, 27, 43, 3, 9, 82, 10]\n",
            "Sorted: [3, 9, 10, 27, 38, 43, 82]\n"
          ]
        }
      ]
    },
    {
      "cell_type": "code",
      "source": [
        "from collections import deque, defaultdict\n",
        "\n",
        "def kahn_topological_sort(num_nodes, edges):\n",
        "    # Build graph adjacency list + indegree count\n",
        "    graph = defaultdict(list)\n",
        "    indegree = [0] * num_nodes\n",
        "\n",
        "    for u, v in edges:\n",
        "        graph[u].append(v)\n",
        "        indegree[v] += 1\n",
        "    print(\"in degree\", indegree)\n",
        "    # Queue of all nodes with indegree 0\n",
        "    q = deque([i for i in range(num_nodes) if indegree[i] == 0])\n",
        "    topo = []\n",
        "\n",
        "    while q:\n",
        "        u = q.popleft()\n",
        "        topo.append(u)\n",
        "        for v in graph[u]:\n",
        "            indegree[v] -= 1\n",
        "            if indegree[v] == 0:\n",
        "                q.append(v)\n",
        "\n",
        "    if len(topo) != num_nodes:\n",
        "        raise ValueError(\"Graph contains a cycle, topological sort not possible.\")\n",
        "    return topo\n",
        "\n",
        "\n",
        "# Example usage\n",
        "if __name__ == \"__main__\":\n",
        "    # number of nodes and edges\n",
        "    n = 6\n",
        "    edges = [\n",
        "        (5, 2), (5, 0),\n",
        "        (4, 0), (4, 1),\n",
        "        (2, 3), (3, 1)\n",
        "    ]\n",
        "\n",
        "    order = kahn_topological_sort(n, edges)\n",
        "    print(\"Topological order:\", order)\n"
      ],
      "metadata": {
        "colab": {
          "base_uri": "https://localhost:8080/"
        },
        "id": "XOGjOC8b5eHV",
        "outputId": "1824c40b-3d49-4100-e849-48fd58306657"
      },
      "execution_count": 8,
      "outputs": [
        {
          "output_type": "stream",
          "name": "stdout",
          "text": [
            "in degree [2, 2, 1, 1, 0, 0]\n",
            "Topological order: [4, 5, 2, 0, 3, 1]\n"
          ]
        }
      ]
    },
    {
      "cell_type": "code",
      "source": [
        "#  dfs traversal for the given graph\n",
        "from collections import deque, defaultdict\n",
        "\n",
        "def bfs(graph, start):\n",
        "    visited = set()\n",
        "    order = []\n",
        "    q = deque([start])\n",
        "    visited.add(start)\n",
        "\n",
        "    while q:\n",
        "        node = q.popleft()\n",
        "        order.append(node)\n",
        "\n",
        "        for neighbor in graph[node]:\n",
        "            if neighbor not in visited:\n",
        "                visited.add(neighbor)\n",
        "                q.append(neighbor)\n",
        "    return order\n",
        "\n",
        "\n",
        "if __name__ == \"__main__\":\n",
        "    # Graph definition (undirected)\n",
        "    vertices = [\"X\", \"Y\", \"Z\", \"A\", \"B\"]\n",
        "    edges = [(\"X\",\"Y\"), (\"X\",\"Z\"), (\"Y\",\"A\"), (\"Y\",\"B\"), (\"Z\",\"B\")]\n",
        "\n",
        "    # Build adjacency list\n",
        "    graph = defaultdict(list)\n",
        "    for u, v in edges:\n",
        "        graph[u].append(v)\n",
        "        graph[v].append(u)  # undirected → add both ways\n",
        "\n",
        "    # BFS from X\n",
        "    order = bfs(graph, \"X\")\n",
        "    print(\"BFS Traversal starting from X:\", order)\n"
      ],
      "metadata": {
        "colab": {
          "base_uri": "https://localhost:8080/"
        },
        "id": "eNKIDGk69ZXG",
        "outputId": "f5f474ab-16ab-48c6-eaca-f0aaffe996f5"
      },
      "execution_count": 9,
      "outputs": [
        {
          "output_type": "stream",
          "name": "stdout",
          "text": [
            "BFS Traversal starting from X: ['X', 'Y', 'Z', 'A', 'B']\n"
          ]
        }
      ]
    },
    {
      "cell_type": "code",
      "source": [
        "# bfs traversal for a given graph\n",
        "from collections import defaultdict\n",
        "\n",
        "def dfs(graph, start, visited=None, order=None):\n",
        "    if visited is None:\n",
        "        visited = set()\n",
        "        order = []\n",
        "    visited.add(start)\n",
        "    order.append(start)\n",
        "\n",
        "    for neighbor in graph[start]:\n",
        "        if neighbor not in visited:\n",
        "            dfs(graph, neighbor, visited, order)\n",
        "    return order\n",
        "\n",
        "\n",
        "if __name__ == \"__main__\":\n",
        "    # Graph definition (directed)\n",
        "    vertices = [\"A\", \"B\", \"C\", \"D\", \"E\"]\n",
        "    edges = [(\"A\",\"B\"), (\"A\",\"C\"), (\"C\",\"E\"), (\"E\",\"D\")]\n",
        "\n",
        "    # Build adjacency list\n",
        "    graph = defaultdict(list)\n",
        "    for u, v in edges:\n",
        "        graph[u].append(v)\n",
        "\n",
        "    # DFS from A\n",
        "    order = dfs(graph, \"A\")\n",
        "    print(\"DFS Traversal starting from A:\", order)\n"
      ],
      "metadata": {
        "colab": {
          "base_uri": "https://localhost:8080/"
        },
        "id": "1geFmr75_2D1",
        "outputId": "eeb982e7-27b4-4269-fa10-99d9b0aab49f"
      },
      "execution_count": 10,
      "outputs": [
        {
          "output_type": "stream",
          "name": "stdout",
          "text": [
            "DFS Traversal starting from A: ['A', 'B', 'C', 'E', 'D']\n"
          ]
        }
      ]
    }
  ]
}